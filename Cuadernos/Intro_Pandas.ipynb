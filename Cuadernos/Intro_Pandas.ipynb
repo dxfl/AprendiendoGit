{
  "nbformat": 4,
  "nbformat_minor": 0,
  "metadata": {
    "colab": {
      "provenance": [],
      "authorship_tag": "ABX9TyOoCAfoKGYYptoFjq2+jm7H",
      "include_colab_link": true
    },
    "kernelspec": {
      "name": "python3",
      "display_name": "Python 3"
    },
    "language_info": {
      "name": "python"
    }
  },
  "cells": [
    {
      "cell_type": "markdown",
      "metadata": {
        "id": "view-in-github",
        "colab_type": "text"
      },
      "source": [
        "<a href=\"https://colab.research.google.com/github/dxfl/AprendiendoGit/blob/main/Intro_Pandas.ipynb\" target=\"_parent\"><img src=\"https://colab.research.google.com/assets/colab-badge.svg\" alt=\"Open In Colab\"/></a>"
      ]
    },
    {
      "cell_type": "markdown",
      "source": [
        "# Introducción a Pandas. Esquema para desarrollar\n",
        "\n",
        "1. Qué es Pandas\n",
        "2. Instalación\n",
        "3. Dataframes\n",
        "4. Cargar datos\n",
        "4. Tipos de datos\n",
        "  - Enteros\n",
        "  - Coma flotante\n",
        "  - String\n",
        "  - Categóricos\n",
        "  - Fecha y hora\n",
        "5. NA\n",
        "6. Operadores\n",
        "7. Agregando\n",
        "8. Conversión\n",
        "9. Manipulación\n",
        "10. Indexado\n",
        "11. Gráficos"
      ],
      "metadata": {
        "id": "gN2Ucx0OP0lM"
      }
    },
    {
      "cell_type": "markdown",
      "source": [
        "# 1. Introducción a Pandas\n",
        "\n",
        "**Pandas** es la librería de Python, de código abierto, por excelencia, cuando hablamos de análisis y manejo de datos estructurados, como tablas o series temporales.\n",
        "\n",
        "Ofrece estructuras de datos flexibles, como DataFrame (tablas bidimensionales similares a una hoja de cálculo) y Series (vectores unidimensionales), permitiendo operaciones como filtrado, agrupación, ordenamiento, agregación y limpieza de datos de manera eficiente.\n",
        "\n",
        "Pandas es ideal para tareas como la preparación de datos para el análisis, la transformación de formatos de datos (CSV, Excel, JSON, Parquet, entre otros), y la realización de cálculos estadísticos básicos o avanzados.\n",
        "\n",
        "Su capacidad de integración con otras bibliotecas como NumPy, Matplotlib y PyArrow lo convierte en una herramienta fundamental en ciencia de datos, análisis financiero, machine learning y cualquier campo que requiera trabajar con grandes volúmenes de datos.\n",
        "\n",
        "Más información en: https://pandas.pydata.org/\n",
        "\n"
      ],
      "metadata": {
        "id": "E6fwdsL0RXK8"
      }
    },
    {
      "cell_type": "markdown",
      "source": [
        "# 2. Instalar Pandas\n",
        "\n",
        "1. Anaconda\n",
        "\n",
        "Si estamos utilizando **Anaconda** como nuestra distribución de Python, https://anaconda.com, la forma más sencilla es ejecutar:\n",
        "\n",
        "```shell\n",
        "$ conda install pandas\n",
        "```\n",
        "\n",
        "También podemos aprovechar para instalar la librería **PyArrow** que es útil para manejar datos en memoria y nos permitirá trabajar en formatos pensados para grandes volúmenes de datos, como **Parquet** o **Feather**\n",
        "\n",
        "```shell\n",
        "$ conda install pandas pyarrow\n",
        "```\n",
        "\n",
        "2. Pip\n",
        "\n",
        "Si utilizamos **Pip** es tan fácil como ejecutar:\n",
        "\n",
        "```shell\n",
        "$ pip install pandas\n",
        "````\n",
        "\n",
        "O\n",
        "\n",
        "```shell\n",
        "$ pip install pandas pyarrow\n",
        "````\n",
        "\n",
        "\n",
        "Para comprobar que tenemos instalada la librería, podemos importarla y llamar a la función *_ _ version _ _*\n"
      ],
      "metadata": {
        "id": "A-mPvO9tWvDV"
      }
    },
    {
      "cell_type": "code",
      "source": [
        "import pandas as pd # pd es un alias para no tener que escribir 'pandas' cada vez\n",
        "\n",
        "pd.__version__"
      ],
      "metadata": {
        "id": "1IlFvyZCFZxi",
        "colab": {
          "base_uri": "https://localhost:8080/",
          "height": 35
        },
        "outputId": "7759a6e6-690d-47aa-d69d-94df631725cf"
      },
      "execution_count": null,
      "outputs": [
        {
          "output_type": "execute_result",
          "data": {
            "text/plain": [
              "'2.2.2'"
            ],
            "application/vnd.google.colaboratory.intrinsic+json": {
              "type": "string"
            }
          },
          "metadata": {},
          "execution_count": 1
        }
      ]
    },
    {
      "cell_type": "markdown",
      "source": [
        "# 3. DataFrame\n",
        "\n",
        "Un **DataFrame** es la unidad básica de trabajo en Pandas. Se trata de una estructura de datos, una tabla, en la que los datos se organizan en filas y columnas.\n",
        "\n",
        "Las filas contienen los datos, u observaciones, y las columnas son los atributos o variables de cada observación.\n",
        "\n",
        "Cada columna puede tener un tipo de datos diferente, números, texto, fechas... Por lo que se trata de una estructura muy flexible y permite manejar datos heterogéneos.\n",
        "\n",
        "Tanto las filas como las columnas tienen etiquetas. Las etiquetas de las filas se llaman **índice**, por defecto son números consecutivos, pero se puede personalizar a cualquier nombre. Las etiquetas de las columnas son los nombres de las variables.\n",
        "\n",
        "Por ejemplo, esta tabla de frutas:\n",
        "\n",
        "||Nombre|Color|Unidades|\n",
        "|--|--|--|--|\n",
        "|1|Naranja|Naranja|4|\n",
        "|2|Plátano|Amarillo|6|\n",
        "|3|Mandarina|Naranja|12|\n",
        "|4|Pera|Verde|2|\n",
        "\n",
        "\n",
        "En la que las columnas definien los atributos, Nombre, Color y Unidades, y cada línea empieza con el índice correspondiente y contiene un caso de nuestra tabla, lo que tenemos en la cocina.\n",
        "\n",
        "\n",
        "Sobre un DataFrame se pueden realizar operaciones como filtrar filas, seleccionar columnas, cálculos entre datos, combinar tablas y transformar formatos de datos, como veremos más adelante.\n",
        "\n",
        "\n"
      ],
      "metadata": {
        "id": "yweGe2-tTxZN"
      }
    },
    {
      "cell_type": "markdown",
      "source": [
        "# 4. Cargar datos\n",
        "\n",
        "Podemos cargar datos en un DataFrame de Pandas de muchas maneras, dependiendo de la fuenta que estemos tratando.\n",
        "\n",
        "1. Desde archivos comunes\n",
        "\n",
        "- CSV (texto separado por comas):\n",
        "```python\n",
        "df = pd.read_csv(\"archivo.csv\")\n",
        "```\n",
        "\n",
        "- Excel (XLS/XLSX):\n",
        "```python\n",
        "df = pd.read_excel(\"archivo.xlsx\", sheet_name=\"Hoja1\")\n",
        "```\n",
        "\n",
        "- JSON:\n",
        "```python\n",
        "df = pd.read_json(\"archivo.json\")\n",
        "```\n",
        "\n",
        "- Texto (con delimitadores personalizados):\n",
        "```python\n",
        "df = pd.read_table(\"archivo.txt\", sep=\"\\t\")\n",
        "````\n",
        "\n",
        "2. Desde bases de datos\n",
        "- SQL:\n",
        "```python\n",
        "import sqlite3\n",
        "conn = sqlite3.connect(\"mi_base_de_datos.db\")\n",
        "df = pd.read_sql(\"SELECT * FROM tabla\", conn)\n",
        "```\n",
        "\n",
        "- Desde otros gestores como MySQL, PostgreSQL o SQL Server utilizando bibliotecas como sqlalchemy.\n",
        "\n",
        "3. Desde formatos avanzados\n",
        "- Parquet:\n",
        "```python\n",
        "df = pd.read_parquet(\"archivo.parquet\")\n",
        "```\n",
        "\n",
        "- Feather:\n",
        "```python\n",
        "df = pd.read_feather(\"archivo.feather\")\n",
        "```\n",
        "\n",
        "- HDF5:\n",
        "```python\n",
        "df = pd.read_hdf(\"archivo.h5\", key=\"datos\")\n",
        "````\n",
        "\n",
        "4. Desde APIs o servicios web\n",
        "- JSON desde una API REST:\n",
        "```python\n",
        "import requests\n",
        "response = requests.get(\"https://api.example.com/data\")\n",
        "df = pd.DataFrame(response.json())\n",
        "````\n",
        "\n",
        "5. Desde otros formatos o estructuras de datos\n",
        "- Listas o diccionarios en Python:\n",
        "```python\n",
        "data = {'columna1': [1, 2, 3], 'columna2': ['A', 'B', 'C']}\n",
        "df = pd.DataFrame(data)\n",
        "```\n",
        "\n",
        "- Archivos ZIP o comprimidos:\n",
        "```python\n",
        "df = pd.read_csv(\"archivo.zip\")\n",
        "```\n",
        "\n",
        "- Archivos de texto dentro de un ZIP:\n",
        "```python\n",
        "df = pd.read_csv(\"archivo.zip\", compression='zip')\n",
        "````\n",
        "\n",
        "6. Desde la web o sistemas externos\n",
        "- Desde una URL:\n",
        "```python\n",
        "df = pd.read_csv(\"https://example.com/data.csv\")\n",
        "```\n",
        "\n",
        "- Desde Google Sheets (con la URL exportada como CSV):\n",
        "```python\n",
        "url = \"https://docs.google.com/spreadsheets/d/archivo_id/export?format=csv\"\n",
        "df = pd.read_csv(url)\n",
        "````\n",
        "\n",
        "7. Desde otras librerías\n",
        "- Numpy Arrays:\n",
        "```python\n",
        "import numpy as np\n",
        "arr = np.array([[1, 2, 3], [4, 5, 6]])\n",
        "df = pd.DataFrame(arr, columns=[\"A\", \"B\", \"C\"])\n",
        "```\n",
        "\n",
        "- Spark DataFrames:\n",
        "```python\n",
        "df_pandas = spark_df.toPandas()\n",
        "````\n"
      ],
      "metadata": {
        "id": "pXonQHvvFLnX"
      }
    },
    {
      "cell_type": "markdown",
      "source": [
        "# 5. Tipos de datos\n",
        "\n",
        "Panda soporta muchos tipos de datos, que podemos usar según las necesidades que tengamos.\n",
        "\n",
        "Los más comunes son:\n",
        "  - **Int**. Números enteros, positivos o negativos.\n",
        "  - **Float**. Números decimales con coma flotante.\n",
        "  - **Object**. Genérico para texto y otros objetos de Python.\n",
        "  - **String**. Obtimizado para texto.\n",
        "  - **Booleanos**. Valores, lógicos verdadero o falso.\n",
        "  - **Datetime**. Para fechas y horas\n",
        "\n",
        "Merece la pena ajustar bien el tipo de datos, ocuparán menos espacio y las tareas serán más rápidas."
      ],
      "metadata": {
        "id": "uZc1aecKb2W3"
      }
    },
    {
      "cell_type": "markdown",
      "source": [
        "Pandas es una biblioteca versátil que permite manejar diferentes tipos de datos, tanto básicos como avanzados. Esto facilita trabajar con información diversa y realizar análisis complejos. A continuación, se describen los principales tipos de datos que Pandas soporta:\n",
        "\n",
        "1. Tipos básicos de datos\n",
        "\t•\tNuméricos:\n",
        "\t•\tint64: Números enteros (positivos o negativos).\n",
        "\t•\tfloat64: Números en punto flotante (decimales).\n",
        "\t•\tcomplex: Números complejos (poco común en Pandas).\n",
        "\t•\tTexto:\n",
        "\t•\tobject: Tipo genérico que incluye cadenas de texto (str) y otros objetos de Python.\n",
        "\t•\tstring: Tipo optimizado para cadenas de texto introducido en versiones recientes de Pandas.\n",
        "\t•\tBooleanos:\n",
        "\t•\tbool: Valores lógicos True o False.\n",
        "\n",
        "2. Tipos avanzados\n",
        "\t•\tFechas y tiempos:\n",
        "\t•\tdatetime64[ns]: Representa fechas y tiempos (ej., 2023-12-31 23:59:59).\n",
        "\t•\ttimedelta[ns]: Diferencias entre dos tiempos (duraciones).\n",
        "\t•\tCategorías:\n",
        "\t•\tcategory: Tipo optimizado para datos categóricos (por ejemplo, colores como “rojo”, “verde”, “azul”). Reduce uso de memoria y mejora el rendimiento en operaciones como filtrado y agrupación.\n",
        "\t•\tDatos faltantes:\n",
        "\t•\tNaN (Not a Number): Representa valores faltantes o nulos en datos numéricos.\n",
        "\t•\tNone: Representa valores faltantes en datos de tipo objeto o texto.\n",
        "\n",
        "3. Tipos específicos (extensiones)\n",
        "\t•\tDatos geoespaciales:\n",
        "\t•\tSoportados a través de bibliotecas como geopandas, que utiliza GeoSeries para manejar datos espaciales como puntos, líneas y polígonos.\n",
        "\t•\tDatos de precisión arbitraria:\n",
        "\t•\tUtilizando extensiones como decimal.Decimal para cálculos financieros precisos.\n",
        "\t•\tDatos complejos:\n",
        "\t•\tPandas puede manejar listas, diccionarios y otros objetos dentro de columnas con el tipo object, aunque esto puede ser menos eficiente.\n",
        "\n",
        "4. Conversión y detección de tipos\n",
        "\n",
        "Pandas permite convertir entre tipos de datos según sea necesario:\n",
        "\t•\tConvertir manualmente:\n",
        "\n",
        "df['columna'] = df['columna'].astype('int64')  # Convertir a entero\n",
        "\n",
        "\n",
        "\t•\tDetectar y optimizar tipos automáticamente:\n",
        "\n",
        "df = pd.read_csv(\"archivo.csv\", dtype={\"columna\": \"category\"})\n",
        "\n",
        "\n",
        "\n",
        "5. Soporte para datos externos\n",
        "\n",
        "Pandas puede integrar tipos de datos personalizados a través de extensiones como pyarrow y fastparquet para manejar formatos como Parquet o Feather.\n",
        "\n",
        "Resumen de usos prácticos:\n",
        "\t•\tNuméricos: Análisis estadístico, cálculo de métricas.\n",
        "\t•\tTexto: Manipulación de cadenas, análisis de datos no estructurados.\n",
        "\t•\tFechas y tiempos: Análisis temporal, series de tiempo.\n",
        "\t•\tCategorías: Clasificación, reducción de memoria en datos repetitivos.\n",
        "\t•\tBooleanos: Filtrado y enmascaramiento lógico.\n",
        "\n",
        "Pandas es lo suficientemente flexible para manejar cualquier tipo de dato, facilitando la interoperabilidad con otras bibliotecas y formatos."
      ],
      "metadata": {
        "id": "hAG8cCSl69ww"
      }
    }
  ]
}